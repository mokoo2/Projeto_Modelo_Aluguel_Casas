{
 "cells": [
  {
   "cell_type": "markdown",
   "metadata": {},
   "source": [
    "# Construção de modelo para prever o valor do aluguel"
   ]
  },
  {
   "cell_type": "markdown",
   "metadata": {},
   "source": [
    "O dataset utilizado foi extraído do Kaggle (https://www.kaggle.com/datasets/rubenssjr/brasilian-houses-to-rent). Possui 10962 casas para alugar com 13 classes diferentes."
   ]
  },
  {
   "cell_type": "markdown",
   "metadata": {},
   "source": [
    "Variáveis: \n",
    "    ; id\n",
    "    ; city\n",
    "    ; area\n",
    "    ; rooms\n",
    "    ; bathroom\n",
    "    ; parking spaces\n",
    "    ; floor\n",
    "    ; animal (aceita animais?)\n",
    "    ;furniture (mobiliada?)\n",
    "    ; hoa (valor do condomínio)\n",
    "    ; rent amount\n",
    "    ; property tax\n",
    "    ; fire insurance\n",
    "    ; total\n",
    "    "
   ]
  },
  {
   "cell_type": "markdown",
   "metadata": {},
   "source": [
    "1- O Primeiro passo é realizar a extração e tratamento dos dados"
   ]
  },
  {
   "cell_type": "code",
   "execution_count": 8,
   "metadata": {},
   "outputs": [],
   "source": [
    "# importação de pacotes\n",
    "import numpy as np\n",
    "from scipy import stats\n",
    "import pandas as pd\n",
    "import matplotlib.pyplot as plt\n",
    "%matplotlib inline"
   ]
  },
  {
   "cell_type": "code",
   "execution_count": 13,
   "metadata": {},
   "outputs": [
    {
     "data": {
      "text/plain": [
       "<pyodbc.Cursor at 0x11df5c890b0>"
      ]
     },
     "execution_count": 13,
     "metadata": {},
     "output_type": "execute_result"
    }
   ],
   "source": [
    "# Conenctando no SQL Server para extrair a base\n",
    "import pyodbc\n",
    "conn =pyodbc.connect(driver='{SQL Server Native Client 11.0}', \n",
    "                      host='localhost', database='Aluguel_Casas_2', trusted_connection='yes')\n",
    "cursor=conn.cursor()\n",
    "cursor.execute('SELECT * FROM ALuguel_Casas_2.dbo.houses_to_rent_sql')\n"
   ]
  },
  {
   "cell_type": "code",
   "execution_count": 17,
   "metadata": {},
   "outputs": [],
   "source": [
    "# importação de dados\n",
    "dados=pd.read_sql(sql='SELECT * FROM ALuguel_Casas_2.dbo.houses_to_rent_sql',con=conn)"
   ]
  },
  {
   "cell_type": "code",
   "execution_count": 18,
   "metadata": {},
   "outputs": [
    {
     "data": {
      "text/html": [
       "<div>\n",
       "<style scoped>\n",
       "    .dataframe tbody tr th:only-of-type {\n",
       "        vertical-align: middle;\n",
       "    }\n",
       "\n",
       "    .dataframe tbody tr th {\n",
       "        vertical-align: top;\n",
       "    }\n",
       "\n",
       "    .dataframe thead th {\n",
       "        text-align: right;\n",
       "    }\n",
       "</style>\n",
       "<table border=\"1\" class=\"dataframe\">\n",
       "  <thead>\n",
       "    <tr style=\"text-align: right;\">\n",
       "      <th></th>\n",
       "      <th>Column 0</th>\n",
       "      <th>city</th>\n",
       "      <th>area</th>\n",
       "      <th>rooms</th>\n",
       "      <th>bathroom</th>\n",
       "      <th>parking spaces</th>\n",
       "      <th>floor</th>\n",
       "      <th>animal</th>\n",
       "      <th>furniture</th>\n",
       "      <th>hoa</th>\n",
       "      <th>rent amount</th>\n",
       "      <th>property tax</th>\n",
       "      <th>fire insurance</th>\n",
       "      <th>total</th>\n",
       "    </tr>\n",
       "  </thead>\n",
       "  <tbody>\n",
       "    <tr>\n",
       "      <th>0</th>\n",
       "      <td>0</td>\n",
       "      <td>1</td>\n",
       "      <td>240</td>\n",
       "      <td>3</td>\n",
       "      <td>3</td>\n",
       "      <td>4</td>\n",
       "      <td>-</td>\n",
       "      <td>acept</td>\n",
       "      <td>furnished</td>\n",
       "      <td>0</td>\n",
       "      <td>8000</td>\n",
       "      <td>1000</td>\n",
       "      <td>121</td>\n",
       "      <td>9121</td>\n",
       "    </tr>\n",
       "    <tr>\n",
       "      <th>1</th>\n",
       "      <td>1</td>\n",
       "      <td>0</td>\n",
       "      <td>64</td>\n",
       "      <td>2</td>\n",
       "      <td>1</td>\n",
       "      <td>1</td>\n",
       "      <td>10</td>\n",
       "      <td>acept</td>\n",
       "      <td>not furnished</td>\n",
       "      <td>540</td>\n",
       "      <td>820</td>\n",
       "      <td>122</td>\n",
       "      <td>11</td>\n",
       "      <td>1493</td>\n",
       "    </tr>\n",
       "    <tr>\n",
       "      <th>2</th>\n",
       "      <td>2</td>\n",
       "      <td>1</td>\n",
       "      <td>443</td>\n",
       "      <td>5</td>\n",
       "      <td>5</td>\n",
       "      <td>4</td>\n",
       "      <td>3</td>\n",
       "      <td>acept</td>\n",
       "      <td>furnished</td>\n",
       "      <td>4172</td>\n",
       "      <td>7000</td>\n",
       "      <td>1417</td>\n",
       "      <td>89</td>\n",
       "      <td>12680</td>\n",
       "    </tr>\n",
       "    <tr>\n",
       "      <th>3</th>\n",
       "      <td>3</td>\n",
       "      <td>1</td>\n",
       "      <td>73</td>\n",
       "      <td>2</td>\n",
       "      <td>2</td>\n",
       "      <td>1</td>\n",
       "      <td>12</td>\n",
       "      <td>acept</td>\n",
       "      <td>not furnished</td>\n",
       "      <td>700</td>\n",
       "      <td>1250</td>\n",
       "      <td>150</td>\n",
       "      <td>16</td>\n",
       "      <td>2116</td>\n",
       "    </tr>\n",
       "    <tr>\n",
       "      <th>4</th>\n",
       "      <td>4</td>\n",
       "      <td>1</td>\n",
       "      <td>19</td>\n",
       "      <td>1</td>\n",
       "      <td>1</td>\n",
       "      <td>0</td>\n",
       "      <td>-</td>\n",
       "      <td>not acept</td>\n",
       "      <td>not furnished</td>\n",
       "      <td>0</td>\n",
       "      <td>1200</td>\n",
       "      <td>41</td>\n",
       "      <td>16</td>\n",
       "      <td>1257</td>\n",
       "    </tr>\n",
       "  </tbody>\n",
       "</table>\n",
       "</div>"
      ],
      "text/plain": [
       "  Column 0 city area rooms bathroom parking spaces floor     animal  \\\n",
       "0        0    1  240     3        3              4     -      acept   \n",
       "1        1    0   64     2        1              1    10      acept   \n",
       "2        2    1  443     5        5              4     3      acept   \n",
       "3        3    1   73     2        2              1    12      acept   \n",
       "4        4    1   19     1        1              0     -  not acept   \n",
       "\n",
       "       furniture   hoa rent amount property tax fire insurance  total  \n",
       "0      furnished     0        8000         1000            121   9121  \n",
       "1  not furnished   540         820          122             11   1493  \n",
       "2      furnished  4172        7000         1417             89  12680  \n",
       "3  not furnished   700        1250          150             16   2116  \n",
       "4  not furnished     0        1200           41             16   1257  "
      ]
     },
     "execution_count": 18,
     "metadata": {},
     "output_type": "execute_result"
    }
   ],
   "source": [
    "dados.head()"
   ]
  },
  {
   "cell_type": "code",
   "execution_count": 19,
   "metadata": {},
   "outputs": [
    {
     "data": {
      "text/html": [
       "<div>\n",
       "<style scoped>\n",
       "    .dataframe tbody tr th:only-of-type {\n",
       "        vertical-align: middle;\n",
       "    }\n",
       "\n",
       "    .dataframe tbody tr th {\n",
       "        vertical-align: top;\n",
       "    }\n",
       "\n",
       "    .dataframe thead th {\n",
       "        text-align: right;\n",
       "    }\n",
       "</style>\n",
       "<table border=\"1\" class=\"dataframe\">\n",
       "  <thead>\n",
       "    <tr style=\"text-align: right;\">\n",
       "      <th></th>\n",
       "      <th>Column 0</th>\n",
       "      <th>city</th>\n",
       "      <th>area</th>\n",
       "      <th>rooms</th>\n",
       "      <th>bathroom</th>\n",
       "      <th>parking spaces</th>\n",
       "      <th>floor</th>\n",
       "      <th>animal</th>\n",
       "      <th>furniture</th>\n",
       "      <th>hoa</th>\n",
       "      <th>rent amount</th>\n",
       "      <th>property tax</th>\n",
       "      <th>fire insurance</th>\n",
       "      <th>total</th>\n",
       "    </tr>\n",
       "  </thead>\n",
       "  <tbody>\n",
       "    <tr>\n",
       "      <th>0</th>\n",
       "      <td>0</td>\n",
       "      <td>1</td>\n",
       "      <td>240</td>\n",
       "      <td>3</td>\n",
       "      <td>3</td>\n",
       "      <td>4</td>\n",
       "      <td>-</td>\n",
       "      <td>acept</td>\n",
       "      <td>furnished</td>\n",
       "      <td>0</td>\n",
       "      <td>8000</td>\n",
       "      <td>1000</td>\n",
       "      <td>121</td>\n",
       "      <td>9121</td>\n",
       "    </tr>\n",
       "    <tr>\n",
       "      <th>1</th>\n",
       "      <td>1</td>\n",
       "      <td>0</td>\n",
       "      <td>64</td>\n",
       "      <td>2</td>\n",
       "      <td>1</td>\n",
       "      <td>1</td>\n",
       "      <td>10</td>\n",
       "      <td>acept</td>\n",
       "      <td>not furnished</td>\n",
       "      <td>540</td>\n",
       "      <td>820</td>\n",
       "      <td>122</td>\n",
       "      <td>11</td>\n",
       "      <td>1493</td>\n",
       "    </tr>\n",
       "    <tr>\n",
       "      <th>2</th>\n",
       "      <td>2</td>\n",
       "      <td>1</td>\n",
       "      <td>443</td>\n",
       "      <td>5</td>\n",
       "      <td>5</td>\n",
       "      <td>4</td>\n",
       "      <td>3</td>\n",
       "      <td>acept</td>\n",
       "      <td>furnished</td>\n",
       "      <td>4172</td>\n",
       "      <td>7000</td>\n",
       "      <td>1417</td>\n",
       "      <td>89</td>\n",
       "      <td>12680</td>\n",
       "    </tr>\n",
       "    <tr>\n",
       "      <th>3</th>\n",
       "      <td>3</td>\n",
       "      <td>1</td>\n",
       "      <td>73</td>\n",
       "      <td>2</td>\n",
       "      <td>2</td>\n",
       "      <td>1</td>\n",
       "      <td>12</td>\n",
       "      <td>acept</td>\n",
       "      <td>not furnished</td>\n",
       "      <td>700</td>\n",
       "      <td>1250</td>\n",
       "      <td>150</td>\n",
       "      <td>16</td>\n",
       "      <td>2116</td>\n",
       "    </tr>\n",
       "    <tr>\n",
       "      <th>4</th>\n",
       "      <td>4</td>\n",
       "      <td>1</td>\n",
       "      <td>19</td>\n",
       "      <td>1</td>\n",
       "      <td>1</td>\n",
       "      <td>0</td>\n",
       "      <td>-</td>\n",
       "      <td>not acept</td>\n",
       "      <td>not furnished</td>\n",
       "      <td>0</td>\n",
       "      <td>1200</td>\n",
       "      <td>41</td>\n",
       "      <td>16</td>\n",
       "      <td>1257</td>\n",
       "    </tr>\n",
       "  </tbody>\n",
       "</table>\n",
       "</div>"
      ],
      "text/plain": [
       "  Column 0 city area rooms bathroom parking spaces floor     animal  \\\n",
       "0        0    1  240     3        3              4     -      acept   \n",
       "1        1    0   64     2        1              1    10      acept   \n",
       "2        2    1  443     5        5              4     3      acept   \n",
       "3        3    1   73     2        2              1    12      acept   \n",
       "4        4    1   19     1        1              0     -  not acept   \n",
       "\n",
       "       furniture   hoa rent amount property tax fire insurance  total  \n",
       "0      furnished     0        8000         1000            121   9121  \n",
       "1  not furnished   540         820          122             11   1493  \n",
       "2      furnished  4172        7000         1417             89  12680  \n",
       "3  not furnished   700        1250          150             16   2116  \n",
       "4  not furnished     0        1200           41             16   1257  "
      ]
     },
     "execution_count": 19,
     "metadata": {},
     "output_type": "execute_result"
    }
   ],
   "source": [
    "# amostra dos dados\n",
    "dados.head()"
   ]
  },
  {
   "cell_type": "code",
   "execution_count": 20,
   "metadata": {},
   "outputs": [
    {
     "data": {
      "text/plain": [
       "Index(['Column 0', 'city', 'area', 'rooms', 'bathroom', 'parking spaces',\n",
       "       'floor', 'animal', 'furniture', 'hoa', 'rent amount', 'property tax',\n",
       "       'fire insurance', 'total'],\n",
       "      dtype='object')"
      ]
     },
     "execution_count": 20,
     "metadata": {},
     "output_type": "execute_result"
    }
   ],
   "source": [
    "# nome dos dados\n",
    "dados.columns"
   ]
  },
  {
   "cell_type": "code",
   "execution_count": 21,
   "metadata": {},
   "outputs": [
    {
     "data": {
      "text/plain": [
       "Column 0          object\n",
       "city              object\n",
       "area              object\n",
       "rooms             object\n",
       "bathroom          object\n",
       "parking spaces    object\n",
       "floor             object\n",
       "animal            object\n",
       "furniture         object\n",
       "hoa               object\n",
       "rent amount       object\n",
       "property tax      object\n",
       "fire insurance    object\n",
       "total             object\n",
       "dtype: object"
      ]
     },
     "execution_count": 21,
     "metadata": {},
     "output_type": "execute_result"
    }
   ],
   "source": [
    "#tipo de dados\n",
    "dados.dtypes"
   ]
  },
  {
   "cell_type": "code",
   "execution_count": 22,
   "metadata": {},
   "outputs": [
    {
     "data": {
      "text/plain": [
       "(6080, 14)"
      ]
     },
     "execution_count": 22,
     "metadata": {},
     "output_type": "execute_result"
    }
   ],
   "source": [
    "# dimensão da base\n",
    "dados.shape"
   ]
  },
  {
   "cell_type": "code",
   "execution_count": 23,
   "metadata": {},
   "outputs": [
    {
     "data": {
      "text/plain": [
       "Column 0          False\n",
       "city              False\n",
       "area              False\n",
       "rooms             False\n",
       "bathroom          False\n",
       "parking spaces    False\n",
       "floor             False\n",
       "animal            False\n",
       "furniture         False\n",
       "hoa               False\n",
       "rent amount       False\n",
       "property tax      False\n",
       "fire insurance    False\n",
       "total             False\n",
       "dtype: bool"
      ]
     },
     "execution_count": 23,
     "metadata": {},
     "output_type": "execute_result"
    }
   ],
   "source": [
    "#verificar se existe valor NA\n",
    "dados.sum().isna()"
   ]
  },
  {
   "cell_type": "code",
   "execution_count": 24,
   "metadata": {},
   "outputs": [],
   "source": [
    "# definir as variáveis categóricas e transformá-las\n",
    "cat=['city', 'animal', 'furniture']"
   ]
  },
  {
   "cell_type": "code",
   "execution_count": 25,
   "metadata": {},
   "outputs": [],
   "source": [
    "for i in cat:\n",
    "    dados[i]=dados[i].astype(\"category\")"
   ]
  },
  {
   "cell_type": "code",
   "execution_count": 26,
   "metadata": {
    "scrolled": true
   },
   "outputs": [
    {
     "data": {
      "text/plain": [
       "Column 0            object\n",
       "city              category\n",
       "area                object\n",
       "rooms               object\n",
       "bathroom            object\n",
       "parking spaces      object\n",
       "floor               object\n",
       "animal            category\n",
       "furniture         category\n",
       "hoa                 object\n",
       "rent amount         object\n",
       "property tax        object\n",
       "fire insurance      object\n",
       "total               object\n",
       "dtype: object"
      ]
     },
     "execution_count": 26,
     "metadata": {},
     "output_type": "execute_result"
    }
   ],
   "source": [
    "dados.dtypes"
   ]
  },
  {
   "cell_type": "code",
   "execution_count": 46,
   "metadata": {},
   "outputs": [],
   "source": [
    "# definir as variáveis numéricas e transformá-las\n",
    "num=['hoa', 'rent amount', 'property tax','fire insurance', 'total', 'floor', 'area', 'rooms', 'bathroom', 'parking spaces']"
   ]
  },
  {
   "cell_type": "code",
   "execution_count": 28,
   "metadata": {},
   "outputs": [],
   "source": [
    "from decimal import Decimal"
   ]
  },
  {
   "cell_type": "code",
   "execution_count": 29,
   "metadata": {},
   "outputs": [
    {
     "data": {
      "text/plain": [
       "0       1000\n",
       "1        122\n",
       "2       1417\n",
       "3        150\n",
       "4         41\n",
       "        ... \n",
       "6075       0\n",
       "6076      63\n",
       "6077      42\n",
       "6078     250\n",
       "6079       0\n",
       "Name: property tax, Length: 6080, dtype: object"
      ]
     },
     "execution_count": 29,
     "metadata": {},
     "output_type": "execute_result"
    }
   ],
   "source": [
    "# observa-se que em algumas variáveis contém o símbolo da moeda 'R$'. Portanto, é necessário fazer o tratamento para removê-las\n",
    "dados['property tax']"
   ]
  },
  {
   "cell_type": "code",
   "execution_count": 30,
   "metadata": {},
   "outputs": [],
   "source": [
    "for i in num:\n",
    "    dados[i]=dados[i].str.replace(r'\\D', '')"
   ]
  },
  {
   "cell_type": "code",
   "execution_count": 31,
   "metadata": {},
   "outputs": [
    {
     "data": {
      "text/plain": [
       "0        9121\n",
       "1        1493\n",
       "2       12680\n",
       "3        2116\n",
       "4        1257\n",
       "        ...  \n",
       "6075     1585\n",
       "6076     3768\n",
       "6077     1255\n",
       "6078     3803\n",
       "6079     2414\n",
       "Name: total, Length: 6080, dtype: object"
      ]
     },
     "execution_count": 31,
     "metadata": {},
     "output_type": "execute_result"
    }
   ],
   "source": [
    "dados.total"
   ]
  },
  {
   "cell_type": "code",
   "execution_count": 32,
   "metadata": {},
   "outputs": [],
   "source": [
    "for i in num:\n",
    "    dados[i]=dados[i].str.replace(' ','')"
   ]
  },
  {
   "cell_type": "code",
   "execution_count": 33,
   "metadata": {},
   "outputs": [
    {
     "data": {
      "text/plain": [
       "Column 0          27\n",
       "city              27\n",
       "area              27\n",
       "rooms             27\n",
       "bathroom          27\n",
       "parking spaces    27\n",
       "floor             27\n",
       "animal            27\n",
       "furniture         27\n",
       "hoa               27\n",
       "rent amount       27\n",
       "property tax      27\n",
       "fire insurance    27\n",
       "total             27\n",
       "dtype: int64"
      ]
     },
     "execution_count": 33,
     "metadata": {},
     "output_type": "execute_result"
    }
   ],
   "source": [
    "dados[dados['property tax']==''].count()"
   ]
  },
  {
   "cell_type": "code",
   "execution_count": 34,
   "metadata": {},
   "outputs": [
    {
     "data": {
      "text/plain": [
       "Column 0          202\n",
       "city              202\n",
       "area              202\n",
       "rooms             202\n",
       "bathroom          202\n",
       "parking spaces    202\n",
       "floor             202\n",
       "animal            202\n",
       "furniture         202\n",
       "hoa               202\n",
       "rent amount       202\n",
       "property tax      202\n",
       "fire insurance    202\n",
       "total             202\n",
       "dtype: int64"
      ]
     },
     "execution_count": 34,
     "metadata": {},
     "output_type": "execute_result"
    }
   ],
   "source": [
    "dados[dados['hoa']==''].count()"
   ]
  },
  {
   "cell_type": "code",
   "execution_count": 35,
   "metadata": {},
   "outputs": [
    {
     "data": {
      "text/plain": [
       "Column 0          1555\n",
       "city              1555\n",
       "area              1555\n",
       "rooms             1555\n",
       "bathroom          1555\n",
       "parking spaces    1555\n",
       "floor             1555\n",
       "animal            1555\n",
       "furniture         1555\n",
       "hoa               1555\n",
       "rent amount       1555\n",
       "property tax      1555\n",
       "fire insurance    1555\n",
       "total             1555\n",
       "dtype: int64"
      ]
     },
     "execution_count": 35,
     "metadata": {},
     "output_type": "execute_result"
    }
   ],
   "source": [
    "dados[dados['floor']==''].count()"
   ]
  },
  {
   "cell_type": "code",
   "execution_count": 36,
   "metadata": {},
   "outputs": [],
   "source": [
    "# Foi verificado valores em branco em algumas variáveis. Assim, foi optado para substituir esses valores por 0"
   ]
  },
  {
   "cell_type": "code",
   "execution_count": 37,
   "metadata": {},
   "outputs": [],
   "source": [
    "dados['property tax']=dados['property tax'].replace('',0)"
   ]
  },
  {
   "cell_type": "code",
   "execution_count": 38,
   "metadata": {},
   "outputs": [],
   "source": [
    "dados['floor']=dados['floor'].replace('',0)"
   ]
  },
  {
   "cell_type": "code",
   "execution_count": 39,
   "metadata": {},
   "outputs": [],
   "source": [
    "dados['hoa']=dados['hoa'].replace('',0)"
   ]
  },
  {
   "cell_type": "code",
   "execution_count": 40,
   "metadata": {},
   "outputs": [
    {
     "data": {
      "text/plain": [
       "Column 0          0\n",
       "city              0\n",
       "area              0\n",
       "rooms             0\n",
       "bathroom          0\n",
       "parking spaces    0\n",
       "floor             0\n",
       "animal            0\n",
       "furniture         0\n",
       "hoa               0\n",
       "rent amount       0\n",
       "property tax      0\n",
       "fire insurance    0\n",
       "total             0\n",
       "dtype: int64"
      ]
     },
     "execution_count": 40,
     "metadata": {},
     "output_type": "execute_result"
    }
   ],
   "source": [
    "dados.isna().sum()"
   ]
  },
  {
   "cell_type": "code",
   "execution_count": 47,
   "metadata": {
    "scrolled": true
   },
   "outputs": [],
   "source": [
    "for i in num:\n",
    "    dados[i]=dados[i].astype(\"int64\")"
   ]
  },
  {
   "cell_type": "code",
   "execution_count": 48,
   "metadata": {},
   "outputs": [
    {
     "data": {
      "text/plain": [
       "Column 0            object\n",
       "city              category\n",
       "area                 int64\n",
       "rooms                int64\n",
       "bathroom             int64\n",
       "parking spaces       int64\n",
       "floor                int64\n",
       "animal            category\n",
       "furniture         category\n",
       "hoa                  int64\n",
       "rent amount          int64\n",
       "property tax         int64\n",
       "fire insurance       int64\n",
       "total                int64\n",
       "dtype: object"
      ]
     },
     "execution_count": 48,
     "metadata": {},
     "output_type": "execute_result"
    }
   ],
   "source": [
    "dados.dtypes"
   ]
  },
  {
   "cell_type": "code",
   "execution_count": 49,
   "metadata": {},
   "outputs": [],
   "source": [
    "# eliminar a coluna 'Unnamed: 0'\n",
    "dados=dados.drop(columns=['Column 0'])"
   ]
  },
  {
   "cell_type": "markdown",
   "metadata": {},
   "source": [
    "2- Após a limpeza dos dados, a próxima tarefa é realiar uma análise exploratória da base"
   ]
  },
  {
   "cell_type": "markdown",
   "metadata": {},
   "source": [
    "Analisar primeiro as variáveis numéricas"
   ]
  },
  {
   "cell_type": "code",
   "execution_count": 50,
   "metadata": {},
   "outputs": [
    {
     "data": {
      "text/html": [
       "<div>\n",
       "<style scoped>\n",
       "    .dataframe tbody tr th:only-of-type {\n",
       "        vertical-align: middle;\n",
       "    }\n",
       "\n",
       "    .dataframe tbody tr th {\n",
       "        vertical-align: top;\n",
       "    }\n",
       "\n",
       "    .dataframe thead th {\n",
       "        text-align: right;\n",
       "    }\n",
       "</style>\n",
       "<table border=\"1\" class=\"dataframe\">\n",
       "  <thead>\n",
       "    <tr style=\"text-align: right;\">\n",
       "      <th></th>\n",
       "      <th>area</th>\n",
       "      <th>rooms</th>\n",
       "      <th>bathroom</th>\n",
       "      <th>parking spaces</th>\n",
       "      <th>floor</th>\n",
       "      <th>hoa</th>\n",
       "      <th>rent amount</th>\n",
       "      <th>property tax</th>\n",
       "      <th>fire insurance</th>\n",
       "      <th>total</th>\n",
       "    </tr>\n",
       "  </thead>\n",
       "  <tbody>\n",
       "    <tr>\n",
       "      <th>count</th>\n",
       "      <td>6080.000000</td>\n",
       "      <td>6080.000000</td>\n",
       "      <td>6080.000000</td>\n",
       "      <td>6080.000000</td>\n",
       "      <td>6080.000000</td>\n",
       "      <td>6080.000000</td>\n",
       "      <td>6080.000000</td>\n",
       "      <td>6080.000000</td>\n",
       "      <td>6080.000000</td>\n",
       "      <td>6080.000000</td>\n",
       "    </tr>\n",
       "    <tr>\n",
       "      <th>mean</th>\n",
       "      <td>151.143914</td>\n",
       "      <td>2.492599</td>\n",
       "      <td>2.341612</td>\n",
       "      <td>1.756250</td>\n",
       "      <td>5.672204</td>\n",
       "      <td>1088.426480</td>\n",
       "      <td>4395.844408</td>\n",
       "      <td>490.333388</td>\n",
       "      <td>58.204276</td>\n",
       "      <td>6033.194572</td>\n",
       "    </tr>\n",
       "    <tr>\n",
       "      <th>std</th>\n",
       "      <td>375.559485</td>\n",
       "      <td>1.129665</td>\n",
       "      <td>1.438860</td>\n",
       "      <td>1.611909</td>\n",
       "      <td>6.168918</td>\n",
       "      <td>3981.357627</td>\n",
       "      <td>3576.668946</td>\n",
       "      <td>6212.564538</td>\n",
       "      <td>49.313441</td>\n",
       "      <td>8751.347700</td>\n",
       "    </tr>\n",
       "    <tr>\n",
       "      <th>min</th>\n",
       "      <td>10.000000</td>\n",
       "      <td>1.000000</td>\n",
       "      <td>1.000000</td>\n",
       "      <td>0.000000</td>\n",
       "      <td>0.000000</td>\n",
       "      <td>0.000000</td>\n",
       "      <td>420.000000</td>\n",
       "      <td>0.000000</td>\n",
       "      <td>3.000000</td>\n",
       "      <td>660.000000</td>\n",
       "    </tr>\n",
       "    <tr>\n",
       "      <th>25%</th>\n",
       "      <td>58.000000</td>\n",
       "      <td>2.000000</td>\n",
       "      <td>1.000000</td>\n",
       "      <td>1.000000</td>\n",
       "      <td>0.000000</td>\n",
       "      <td>24.500000</td>\n",
       "      <td>1800.000000</td>\n",
       "      <td>33.000000</td>\n",
       "      <td>23.000000</td>\n",
       "      <td>2451.500000</td>\n",
       "    </tr>\n",
       "    <tr>\n",
       "      <th>50%</th>\n",
       "      <td>100.000000</td>\n",
       "      <td>3.000000</td>\n",
       "      <td>2.000000</td>\n",
       "      <td>1.000000</td>\n",
       "      <td>4.000000</td>\n",
       "      <td>650.000000</td>\n",
       "      <td>3111.000000</td>\n",
       "      <td>145.000000</td>\n",
       "      <td>41.000000</td>\n",
       "      <td>4128.500000</td>\n",
       "    </tr>\n",
       "    <tr>\n",
       "      <th>75%</th>\n",
       "      <td>200.000000</td>\n",
       "      <td>3.000000</td>\n",
       "      <td>3.000000</td>\n",
       "      <td>2.000000</td>\n",
       "      <td>9.000000</td>\n",
       "      <td>1436.000000</td>\n",
       "      <td>5952.500000</td>\n",
       "      <td>458.000000</td>\n",
       "      <td>77.000000</td>\n",
       "      <td>8074.000000</td>\n",
       "    </tr>\n",
       "    <tr>\n",
       "      <th>max</th>\n",
       "      <td>24606.000000</td>\n",
       "      <td>10.000000</td>\n",
       "      <td>10.000000</td>\n",
       "      <td>12.000000</td>\n",
       "      <td>99.000000</td>\n",
       "      <td>220000.000000</td>\n",
       "      <td>45000.000000</td>\n",
       "      <td>366300.000000</td>\n",
       "      <td>677.000000</td>\n",
       "      <td>372700.000000</td>\n",
       "    </tr>\n",
       "  </tbody>\n",
       "</table>\n",
       "</div>"
      ],
      "text/plain": [
       "               area        rooms     bathroom  parking spaces        floor  \\\n",
       "count   6080.000000  6080.000000  6080.000000     6080.000000  6080.000000   \n",
       "mean     151.143914     2.492599     2.341612        1.756250     5.672204   \n",
       "std      375.559485     1.129665     1.438860        1.611909     6.168918   \n",
       "min       10.000000     1.000000     1.000000        0.000000     0.000000   \n",
       "25%       58.000000     2.000000     1.000000        1.000000     0.000000   \n",
       "50%      100.000000     3.000000     2.000000        1.000000     4.000000   \n",
       "75%      200.000000     3.000000     3.000000        2.000000     9.000000   \n",
       "max    24606.000000    10.000000    10.000000       12.000000    99.000000   \n",
       "\n",
       "                 hoa   rent amount   property tax  fire insurance  \\\n",
       "count    6080.000000   6080.000000    6080.000000     6080.000000   \n",
       "mean     1088.426480   4395.844408     490.333388       58.204276   \n",
       "std      3981.357627   3576.668946    6212.564538       49.313441   \n",
       "min         0.000000    420.000000       0.000000        3.000000   \n",
       "25%        24.500000   1800.000000      33.000000       23.000000   \n",
       "50%       650.000000   3111.000000     145.000000       41.000000   \n",
       "75%      1436.000000   5952.500000     458.000000       77.000000   \n",
       "max    220000.000000  45000.000000  366300.000000      677.000000   \n",
       "\n",
       "               total  \n",
       "count    6080.000000  \n",
       "mean     6033.194572  \n",
       "std      8751.347700  \n",
       "min       660.000000  \n",
       "25%      2451.500000  \n",
       "50%      4128.500000  \n",
       "75%      8074.000000  \n",
       "max    372700.000000  "
      ]
     },
     "execution_count": 50,
     "metadata": {},
     "output_type": "execute_result"
    }
   ],
   "source": [
    "#Alguns indicadores estatísticos das variáveis numéricas\n",
    "dados.describe()"
   ]
  },
  {
   "cell_type": "code",
   "execution_count": 51,
   "metadata": {},
   "outputs": [],
   "source": [
    "import seaborn as sns"
   ]
  },
  {
   "cell_type": "code",
   "execution_count": 52,
   "metadata": {},
   "outputs": [
    {
     "data": {
      "text/plain": [
       "Text(0.5, 1.0, 'floor')"
      ]
     },
     "execution_count": 52,
     "metadata": {},
     "output_type": "execute_result"
    },
    {
     "data": {
      "image/png": "[encoded data removed]",
      "text/plain": [
       "<Figure size 864x864 with 12 Axes>"
      ]
     },
     "metadata": {
      "needs_background": "light"
     },
     "output_type": "display_data"
    }
   ],
   "source": [
    "# Gráficos de histogramas das variáveis\n",
    "fig, axs = plt.subplots(4, 3, figsize=(12,12))\n",
    "axs[0,0].hist(dados['area'], )\n",
    "axs[0,0].set_title('area')\n",
    "axs[0,1].hist(dados['rooms'])\n",
    "axs[0,1].set_title('rooms')\n",
    "axs[0,2].hist(dados['bathroom'])\n",
    "axs[0,2].set_title('bathroom')\n",
    "axs[1,0].hist(dados['parking spaces'])\n",
    "axs[1,0].set_title('parking spaces')\n",
    "axs[1,1].hist(dados['hoa'])\n",
    "axs[1,1].set_title('hoa')\n",
    "axs[1,2].hist(dados['rent amount'])\n",
    "axs[1,2].set_title('rent amount')\n",
    "axs[2,0].hist(dados['property tax'])\n",
    "axs[2,0].set_title('property tax')\n",
    "axs[2,1].hist(dados['fire insurance'])\n",
    "axs[2,1].set_title('fire insurance')\n",
    "axs[2,2].hist(dados['total'])\n",
    "axs[2,2].set_title('total')\n",
    "axs[3,0].hist(dados['floor'])\n",
    "axs[3,0].set_title('floor')\n"
   ]
  },
  {
   "cell_type": "code",
   "execution_count": 53,
   "metadata": {},
   "outputs": [
    {
     "data": {
      "text/plain": [
       "Text(0.5, 1.0, 'floor')"
      ]
     },
     "execution_count": 53,
     "metadata": {},
     "output_type": "execute_result"
    },
    {
     "data": {
      "image/png": "[encoded data removed]",
      "text/plain": [
       "<Figure size 864x864 with 12 Axes>"
      ]
     },
     "metadata": {
      "needs_background": "light"
     },
     "output_type": "display_data"
    }
   ],
   "source": [
    "# Gráficos boxplot das variáveis\n",
    "\n",
    "fig, axs = plt.subplots(4, 3, figsize=(12,12))\n",
    "axs[0,0].boxplot(dados['area'])\n",
    "axs[0,0].set_title('area')\n",
    "axs[0,1].boxplot(dados['rooms'])\n",
    "axs[0,1].set_title('rooms')\n",
    "axs[0,2].boxplot(dados['bathroom'])\n",
    "axs[0,2].set_title('bathroom')\n",
    "axs[1,0].boxplot(dados['parking spaces'])\n",
    "axs[1,0].set_title('parking spaces')\n",
    "axs[1,1].boxplot(dados['hoa'])\n",
    "axs[1,1].set_title('hoa')\n",
    "axs[1,2].boxplot(dados['rent amount'])\n",
    "axs[1,2].set_title('rent amount')\n",
    "axs[2,0].boxplot(dados['property tax'])\n",
    "axs[2,0].set_title('property tax')\n",
    "axs[2,1].boxplot(dados['fire insurance'])\n",
    "axs[2,1].set_title('fire insurance')\n",
    "axs[2,2].boxplot(dados['total'])\n",
    "axs[2,2].set_title('total')\n",
    "axs[3,0].boxplot(dados['floor'])\n",
    "axs[3,0].set_title('floor')"
   ]
  },
  {
   "cell_type": "code",
   "execution_count": 54,
   "metadata": {},
   "outputs": [],
   "source": [
    "# Por meio dos gráficos Box-Plot nota-se que as variáveis numéricas apresentam outiliers"
   ]
  },
  {
   "cell_type": "code",
   "execution_count": 55,
   "metadata": {},
   "outputs": [],
   "source": [
    "num1=['area','rooms','bathroom','parking spaces','hoa','rent amount','property tax','fire insurance', 'floor', 'total']               "
   ]
  },
  {
   "cell_type": "code",
   "execution_count": 56,
   "metadata": {},
   "outputs": [],
   "source": [
    "import scipy\n",
    "from scipy.stats import kurtosis, skew, shapiro"
   ]
  },
  {
   "cell_type": "code",
   "execution_count": 57,
   "metadata": {},
   "outputs": [
    {
     "name": "stdout",
     "output_type": "stream",
     "text": [
      "area 51.69271263954538\n",
      "rooms 0.5281396262541821\n",
      "bathroom 1.0696587582163288\n",
      "parking spaces 1.434304016367949\n",
      "hoa 47.92175965539258\n",
      "rent amount 1.640378028093375\n",
      "property tax 54.67256754254887\n",
      "fire insurance 1.7330128636400663\n",
      "floor 2.1168615107661406\n",
      "total 25.06411299943309\n"
     ]
    }
   ],
   "source": [
    "# skew >0 assimetria à direita, skew<0 assimetria à esquerda, skew=0 distr normal\n",
    "for i in num1:\n",
    "    print(i, skew(dados[i]))"
   ]
  },
  {
   "cell_type": "code",
   "execution_count": 58,
   "metadata": {},
   "outputs": [],
   "source": [
    "# Percebe-se que as variáveis não apresentam uma distribuição normal, elas possuem uma assimetria à esquerda"
   ]
  },
  {
   "cell_type": "code",
   "execution_count": 59,
   "metadata": {},
   "outputs": [
    {
     "name": "stdout",
     "output_type": "stream",
     "text": [
      "area 3162.25208589981\n",
      "rooms 0.7612144546704211\n",
      "bathroom 0.772112794860703\n",
      "parking spaces 2.6815438903004614\n",
      "hoa 2525.963412720937\n",
      "rent amount 4.16067265816629\n",
      "property tax 3037.6877648275013\n",
      "fire insurance 5.559647861161572\n",
      "floor 15.488323613172632\n",
      "total 902.3637595938711\n"
     ]
    }
   ],
   "source": [
    "# kurt> 3 a distribuição em questão é mais alta (afunilada) e concentrada que a distribuição normal\n",
    "# kurt<3 a função de distribuição é mais \"achatada\" que a distribuição normal\n",
    "# kurt=3tem o mesmo achatamento que a distribuição normal.\n",
    "for i in num1:\n",
    "    print(i, kurtosis(dados[i]))"
   ]
  },
  {
   "cell_type": "code",
   "execution_count": 60,
   "metadata": {},
   "outputs": [],
   "source": [
    "# Percebe-se que a maioria das variáveis apresentam distribuição dos dados mais alta que a distribuição normal"
   ]
  },
  {
   "cell_type": "code",
   "execution_count": 61,
   "metadata": {},
   "outputs": [
    {
     "name": "stdout",
     "output_type": "stream",
     "text": [
      "area (0.13243097066879272, 0.0)\n",
      "rooms (0.8931894302368164, 0.0)\n",
      "bathroom (0.8395545482635498, 0.0)\n",
      "parking spaces (0.8477415442466736, 0.0)\n",
      "hoa (0.10939115285873413, 0.0)\n",
      "rent amount (0.829047679901123, 0.0)\n",
      "property tax (0.021265923976898193, 0.0)\n",
      "fire insurance (0.8274679183959961, 0.0)\n",
      "floor (0.8267875909805298, 0.0)\n",
      "total (0.3210354447364807, 0.0)\n"
     ]
    },
    {
     "name": "stderr",
     "output_type": "stream",
     "text": [
      "C:\\Users\\allima\\Anaconda3\\lib\\site-packages\\scipy\\stats\\morestats.py:1676: UserWarning: p-value may not be accurate for N > 5000.\n",
      "  warnings.warn(\"p-value may not be accurate for N > 5000.\")\n"
     ]
    }
   ],
   "source": [
    "# Teste Shapiro-Wilk para verificar se as variáveis apresentam distribuição normal\n",
    "for i in num1:\n",
    "    print(i, shapiro(dados[i]))"
   ]
  },
  {
   "cell_type": "code",
   "execution_count": 62,
   "metadata": {},
   "outputs": [],
   "source": [
    "# De acordo com o teste de Shapiro-wilk os p-valor das vairáveis foram menor que 0.05, ou seja elas não possuem uma distribuição normal"
   ]
  },
  {
   "cell_type": "code",
   "execution_count": 63,
   "metadata": {},
   "outputs": [
    {
     "data": {
      "text/html": [
       "<div>\n",
       "<style scoped>\n",
       "    .dataframe tbody tr th:only-of-type {\n",
       "        vertical-align: middle;\n",
       "    }\n",
       "\n",
       "    .dataframe tbody tr th {\n",
       "        vertical-align: top;\n",
       "    }\n",
       "\n",
       "    .dataframe thead th {\n",
       "        text-align: right;\n",
       "    }\n",
       "</style>\n",
       "<table border=\"1\" class=\"dataframe\">\n",
       "  <thead>\n",
       "    <tr style=\"text-align: right;\">\n",
       "      <th></th>\n",
       "      <th>area</th>\n",
       "      <th>rooms</th>\n",
       "      <th>bathroom</th>\n",
       "      <th>parking spaces</th>\n",
       "      <th>floor</th>\n",
       "      <th>hoa</th>\n",
       "      <th>rent amount</th>\n",
       "      <th>property tax</th>\n",
       "      <th>fire insurance</th>\n",
       "      <th>total</th>\n",
       "    </tr>\n",
       "  </thead>\n",
       "  <tbody>\n",
       "    <tr>\n",
       "      <th>area</th>\n",
       "      <td>1.000000</td>\n",
       "      <td>0.838729</td>\n",
       "      <td>0.829423</td>\n",
       "      <td>0.723015</td>\n",
       "      <td>-0.152723</td>\n",
       "      <td>0.242761</td>\n",
       "      <td>0.721228</td>\n",
       "      <td>0.675814</td>\n",
       "      <td>0.740797</td>\n",
       "      <td>0.739352</td>\n",
       "    </tr>\n",
       "    <tr>\n",
       "      <th>rooms</th>\n",
       "      <td>0.838729</td>\n",
       "      <td>1.000000</td>\n",
       "      <td>0.782932</td>\n",
       "      <td>0.668464</td>\n",
       "      <td>-0.107342</td>\n",
       "      <td>0.242120</td>\n",
       "      <td>0.592151</td>\n",
       "      <td>0.590749</td>\n",
       "      <td>0.607628</td>\n",
       "      <td>0.624033</td>\n",
       "    </tr>\n",
       "    <tr>\n",
       "      <th>bathroom</th>\n",
       "      <td>0.829423</td>\n",
       "      <td>0.782932</td>\n",
       "      <td>1.000000</td>\n",
       "      <td>0.714983</td>\n",
       "      <td>-0.031514</td>\n",
       "      <td>0.327563</td>\n",
       "      <td>0.709888</td>\n",
       "      <td>0.653637</td>\n",
       "      <td>0.710435</td>\n",
       "      <td>0.742714</td>\n",
       "    </tr>\n",
       "    <tr>\n",
       "      <th>parking spaces</th>\n",
       "      <td>0.723015</td>\n",
       "      <td>0.668464</td>\n",
       "      <td>0.714983</td>\n",
       "      <td>1.000000</td>\n",
       "      <td>-0.027613</td>\n",
       "      <td>0.274040</td>\n",
       "      <td>0.634330</td>\n",
       "      <td>0.618085</td>\n",
       "      <td>0.636643</td>\n",
       "      <td>0.666677</td>\n",
       "    </tr>\n",
       "    <tr>\n",
       "      <th>floor</th>\n",
       "      <td>-0.152723</td>\n",
       "      <td>-0.107342</td>\n",
       "      <td>-0.031514</td>\n",
       "      <td>-0.027613</td>\n",
       "      <td>1.000000</td>\n",
       "      <td>0.613904</td>\n",
       "      <td>0.073387</td>\n",
       "      <td>0.029465</td>\n",
       "      <td>-0.005572</td>\n",
       "      <td>0.170623</td>\n",
       "    </tr>\n",
       "    <tr>\n",
       "      <th>hoa</th>\n",
       "      <td>0.242761</td>\n",
       "      <td>0.242120</td>\n",
       "      <td>0.327563</td>\n",
       "      <td>0.274040</td>\n",
       "      <td>0.613904</td>\n",
       "      <td>1.000000</td>\n",
       "      <td>0.374161</td>\n",
       "      <td>0.374746</td>\n",
       "      <td>0.301014</td>\n",
       "      <td>0.540696</td>\n",
       "    </tr>\n",
       "    <tr>\n",
       "      <th>rent amount</th>\n",
       "      <td>0.721228</td>\n",
       "      <td>0.592151</td>\n",
       "      <td>0.709888</td>\n",
       "      <td>0.634330</td>\n",
       "      <td>0.073387</td>\n",
       "      <td>0.374161</td>\n",
       "      <td>1.000000</td>\n",
       "      <td>0.642280</td>\n",
       "      <td>0.970222</td>\n",
       "      <td>0.967697</td>\n",
       "    </tr>\n",
       "    <tr>\n",
       "      <th>property tax</th>\n",
       "      <td>0.675814</td>\n",
       "      <td>0.590749</td>\n",
       "      <td>0.653637</td>\n",
       "      <td>0.618085</td>\n",
       "      <td>0.029465</td>\n",
       "      <td>0.374746</td>\n",
       "      <td>0.642280</td>\n",
       "      <td>1.000000</td>\n",
       "      <td>0.656124</td>\n",
       "      <td>0.716029</td>\n",
       "    </tr>\n",
       "    <tr>\n",
       "      <th>fire insurance</th>\n",
       "      <td>0.740797</td>\n",
       "      <td>0.607628</td>\n",
       "      <td>0.710435</td>\n",
       "      <td>0.636643</td>\n",
       "      <td>-0.005572</td>\n",
       "      <td>0.301014</td>\n",
       "      <td>0.970222</td>\n",
       "      <td>0.656124</td>\n",
       "      <td>1.000000</td>\n",
       "      <td>0.930611</td>\n",
       "    </tr>\n",
       "    <tr>\n",
       "      <th>total</th>\n",
       "      <td>0.739352</td>\n",
       "      <td>0.624033</td>\n",
       "      <td>0.742714</td>\n",
       "      <td>0.666677</td>\n",
       "      <td>0.170623</td>\n",
       "      <td>0.540696</td>\n",
       "      <td>0.967697</td>\n",
       "      <td>0.716029</td>\n",
       "      <td>0.930611</td>\n",
       "      <td>1.000000</td>\n",
       "    </tr>\n",
       "  </tbody>\n",
       "</table>\n",
       "</div>"
      ],
      "text/plain": [
       "                    area     rooms  bathroom  parking spaces     floor  \\\n",
       "area            1.000000  0.838729  0.829423        0.723015 -0.152723   \n",
       "rooms           0.838729  1.000000  0.782932        0.668464 -0.107342   \n",
       "bathroom        0.829423  0.782932  1.000000        0.714983 -0.031514   \n",
       "parking spaces  0.723015  0.668464  0.714983        1.000000 -0.027613   \n",
       "floor          -0.152723 -0.107342 -0.031514       -0.027613  1.000000   \n",
       "hoa             0.242761  0.242120  0.327563        0.274040  0.613904   \n",
       "rent amount     0.721228  0.592151  0.709888        0.634330  0.073387   \n",
       "property tax    0.675814  0.590749  0.653637        0.618085  0.029465   \n",
       "fire insurance  0.740797  0.607628  0.710435        0.636643 -0.005572   \n",
       "total           0.739352  0.624033  0.742714        0.666677  0.170623   \n",
       "\n",
       "                     hoa  rent amount  property tax  fire insurance     total  \n",
       "area            0.242761     0.721228      0.675814        0.740797  0.739352  \n",
       "rooms           0.242120     0.592151      0.590749        0.607628  0.624033  \n",
       "bathroom        0.327563     0.709888      0.653637        0.710435  0.742714  \n",
       "parking spaces  0.274040     0.634330      0.618085        0.636643  0.666677  \n",
       "floor           0.613904     0.073387      0.029465       -0.005572  0.170623  \n",
       "hoa             1.000000     0.374161      0.374746        0.301014  0.540696  \n",
       "rent amount     0.374161     1.000000      0.642280        0.970222  0.967697  \n",
       "property tax    0.374746     0.642280      1.000000        0.656124  0.716029  \n",
       "fire insurance  0.301014     0.970222      0.656124        1.000000  0.930611  \n",
       "total           0.540696     0.967697      0.716029        0.930611  1.000000  "
      ]
     },
     "execution_count": 63,
     "metadata": {},
     "output_type": "execute_result"
    }
   ],
   "source": [
    "# Analisar a correlação das variáveis numéricas\n",
    "#Foi utilizado a carrelação de Spearman pois se adere melhor a varriáveis que não possuem uma distribuição normal\n",
    "dados.corr(method='spearman')"
   ]
  },
  {
   "cell_type": "code",
   "execution_count": 64,
   "metadata": {},
   "outputs": [],
   "source": [
    "#analisar a quantidade de outliers na variável 'total'\n",
    "import scipy as sc\n",
    "iqr_total=sc.stats.iqr(dados['total'])"
   ]
  },
  {
   "cell_type": "code",
   "execution_count": 65,
   "metadata": {},
   "outputs": [
    {
     "data": {
      "text/plain": [
       "17550.5"
      ]
     },
     "execution_count": 65,
     "metadata": {},
     "output_type": "execute_result"
    }
   ],
   "source": [
    "out1=9116.75+(1.5*iqr_total); out1"
   ]
  },
  {
   "cell_type": "code",
   "execution_count": 66,
   "metadata": {},
   "outputs": [
    {
     "data": {
      "text/plain": [
       "683.0"
      ]
     },
     "execution_count": 66,
     "metadata": {},
     "output_type": "execute_result"
    }
   ],
   "source": [
    "out2=9116.75-(1.5*iqr_total); out2"
   ]
  },
  {
   "cell_type": "code",
   "execution_count": 67,
   "metadata": {},
   "outputs": [],
   "source": [
    "x1=[]\n",
    "for i in dados['total']:\n",
    "    if i>out1:\n",
    "        x1.append(i)\n",
    "   "
   ]
  },
  {
   "cell_type": "code",
   "execution_count": 68,
   "metadata": {},
   "outputs": [],
   "source": [
    "x2=[]\n",
    "for i in dados['total']:\n",
    "    if i<out2:\n",
    "        x2.append(i)"
   ]
  },
  {
   "cell_type": "code",
   "execution_count": 69,
   "metadata": {},
   "outputs": [
    {
     "name": "stdout",
     "output_type": "stream",
     "text": [
      "194\n",
      "6080\n",
      "0.03190789473684211\n"
     ]
    }
   ],
   "source": [
    "print(len(x1+x2))\n",
    "print(len(dados['total']))\n",
    "print(len(x1+x2)/len(dados['total']))"
   ]
  },
  {
   "cell_type": "code",
   "execution_count": 70,
   "metadata": {},
   "outputs": [],
   "source": [
    "#3% dos dados da variável 'total' são outliers"
   ]
  },
  {
   "cell_type": "code",
   "execution_count": 71,
   "metadata": {},
   "outputs": [],
   "source": [
    "from patsy import dmatrices\n",
    "from statsmodels.stats.outliers_influence import variance_inflation_factor"
   ]
  },
  {
   "cell_type": "code",
   "execution_count": 72,
   "metadata": {},
   "outputs": [],
   "source": [
    "dados_num=dados[['hoa', 'rent amount', 'property tax', 'fire insurance', 'floor']]"
   ]
  },
  {
   "cell_type": "code",
   "execution_count": 73,
   "metadata": {},
   "outputs": [
    {
     "name": "stdout",
     "output_type": "stream",
     "text": [
      "          feature         VIF\n",
      "0             hoa    1.144704\n",
      "1     rent amount  109.486527\n",
      "2    property tax    1.010085\n",
      "3  fire insurance  102.221931\n",
      "4           floor    1.749708\n"
     ]
    }
   ],
   "source": [
    "# análise da multicolinearidade\n",
    "vif_data = pd.DataFrame() \n",
    "vif_data[\"feature\"] = dados_num.columns \n",
    "  \n",
    "\n",
    "vif_data[\"VIF\"] = [variance_inflation_factor(dados_num.values, i) \n",
    "                          for i in range(len(dados_num.columns))] \n",
    "  \n",
    "print(vif_data)"
   ]
  },
  {
   "cell_type": "markdown",
   "metadata": {},
   "source": [
    "Observa-se que as variáveis rent amount e fire insurance apresentaram um VIF maior que 5, portanto pode-se afirmar que há multicolinariedade entre essas variáveis e a variável dependente 'total'. Assim, optou-se pela remoção dessas variáveis no modelo"
   ]
  },
  {
   "cell_type": "code",
   "execution_count": 74,
   "metadata": {},
   "outputs": [],
   "source": [
    "dados1=dados.drop(columns=['rent amount', 'fire insurance'])"
   ]
  },
  {
   "cell_type": "code",
   "execution_count": 75,
   "metadata": {},
   "outputs": [
    {
     "data": {
      "text/plain": [
       "<matplotlib.axes._subplots.AxesSubplot at 0x11df7edc888>"
      ]
     },
     "execution_count": 75,
     "metadata": {},
     "output_type": "execute_result"
    },
    {
     "data": {
      "image/png": "[encoded data removed]",
      "text/plain": [
       "<Figure size 432x288 with 2 Axes>"
      ]
     },
     "metadata": {
      "needs_background": "light"
     },
     "output_type": "display_data"
    }
   ],
   "source": [
    "#Heatmap para analisar a correlação das variáveis\n",
    "mask = np.triu(np.ones_like(dados1.corr(method='spearman'), dtype=bool))\n",
    "\n",
    "# generate heatmap\n",
    "sns.heatmap(dados1.corr(method='spearman'), annot=True, mask=mask, vmin=-1, vmax=1)"
   ]
  },
  {
   "cell_type": "code",
   "execution_count": 76,
   "metadata": {},
   "outputs": [],
   "source": [
    "# No heatmap acima, percebe que algumas variáveis possuem um correlação forte com a variável dependente 'total',\n",
    "#dado que apresentam uma correlação maior que 0.7, como a variável 'area', 'bathroom' e 'property tax'"
   ]
  },
  {
   "cell_type": "markdown",
   "metadata": {},
   "source": [
    "Agora analisar as variáveis categóricas"
   ]
  },
  {
   "cell_type": "code",
   "execution_count": 77,
   "metadata": {},
   "outputs": [],
   "source": [
    "cat=['city', 'animal','furniture']\n"
   ]
  },
  {
   "cell_type": "code",
   "execution_count": 78,
   "metadata": {},
   "outputs": [
    {
     "name": "stdout",
     "output_type": "stream",
     "text": [
      "city\n",
      "0     831\n",
      "1    5249\n",
      "Name: total, dtype: int64\n",
      "animal\n",
      "acept        4666\n",
      "not acept    1414\n",
      "Name: total, dtype: int64\n",
      "furniture\n",
      "furnished        1582\n",
      "not furnished    4498\n",
      "Name: total, dtype: int64\n"
     ]
    }
   ],
   "source": [
    "# Contagem dos dados para cada grupo\n",
    "for i in cat:\n",
    "    print(dados.groupby([i])['total'].count())\n"
   ]
  },
  {
   "cell_type": "code",
   "execution_count": 79,
   "metadata": {},
   "outputs": [
    {
     "name": "stdout",
     "output_type": "stream",
     "text": [
      "city\n",
      "0    3354.521059\n",
      "1    6457.271099\n",
      "Name: total, dtype: float64\n",
      "animal\n",
      "acept        6193.374839\n",
      "not acept    5504.622348\n",
      "Name: total, dtype: float64\n",
      "furniture\n",
      "furnished        7464.603034\n",
      "not furnished    5529.751223\n",
      "Name: total, dtype: float64\n"
     ]
    }
   ],
   "source": [
    "# Média dos dados para cada grupo\n",
    "for i in cat:\n",
    "    print(dados.groupby([i])['total'].mean())"
   ]
  },
  {
   "cell_type": "code",
   "execution_count": 80,
   "metadata": {},
   "outputs": [
    {
     "name": "stdout",
     "output_type": "stream",
     "text": [
      "city\n",
      "0    2961.417481\n",
      "1    9274.163738\n",
      "Name: total, dtype: float64\n",
      "animal\n",
      "acept         6661.992277\n",
      "not acept    13512.840415\n",
      "Name: total, dtype: float64\n",
      "furniture\n",
      "furnished        11662.984758\n",
      "not furnished     7398.103428\n",
      "Name: total, dtype: float64\n"
     ]
    }
   ],
   "source": [
    "for i in cat:\n",
    "    print(dados.groupby([i])['total'].std())"
   ]
  },
  {
   "cell_type": "code",
   "execution_count": 81,
   "metadata": {},
   "outputs": [],
   "source": [
    "# Plotando os dados das mésidas dos grupos\n",
    "df1=dados.groupby(['city'])['total'].mean()\n",
    "df2=dados.groupby(['animal'])['total'].mean()\n",
    "df3=dados.groupby(['furniture'])['total'].mean()"
   ]
  },
  {
   "cell_type": "code",
   "execution_count": 82,
   "metadata": {
    "scrolled": true
   },
   "outputs": [
    {
     "data": {
      "text/plain": [
       "<matplotlib.axes._subplots.AxesSubplot at 0x11df9b1e708>"
      ]
     },
     "execution_count": 82,
     "metadata": {},
     "output_type": "execute_result"
    },
    {
     "data": {
      "image/png": "[encoded data removed]",
      "text/plain": [
       "<Figure size 432x288 with 1 Axes>"
      ]
     },
     "metadata": {
      "needs_background": "light"
     },
     "output_type": "display_data"
    }
   ],
   "source": [
    "df1.plot.bar()"
   ]
  },
  {
   "cell_type": "code",
   "execution_count": 83,
   "metadata": {},
   "outputs": [
    {
     "data": {
      "text/plain": [
       "<matplotlib.axes._subplots.AxesSubplot at 0x11df9b8bfc8>"
      ]
     },
     "execution_count": 83,
     "metadata": {},
     "output_type": "execute_result"
    },
    {
     "data": {
      "image/png": "[encoded data removed]",
      "text/plain": [
       "<Figure size 432x288 with 1 Axes>"
      ]
     },
     "metadata": {
      "needs_background": "light"
     },
     "output_type": "display_data"
    }
   ],
   "source": [
    "df2.plot.bar()"
   ]
  },
  {
   "cell_type": "code",
   "execution_count": 84,
   "metadata": {},
   "outputs": [
    {
     "data": {
      "text/plain": [
       "<matplotlib.axes._subplots.AxesSubplot at 0x11df9bfc608>"
      ]
     },
     "execution_count": 84,
     "metadata": {},
     "output_type": "execute_result"
    },
    {
     "data": {
      "image/png": "[encoded data removed]",
      "text/plain": [
       "<Figure size 432x288 with 1 Axes>"
      ]
     },
     "metadata": {
      "needs_background": "light"
     },
     "output_type": "display_data"
    }
   ],
   "source": [
    "df3.plot.bar()"
   ]
  },
  {
   "cell_type": "code",
   "execution_count": 85,
   "metadata": {},
   "outputs": [],
   "source": [
    "# Como pode ser visto nos gráficos, as casas que estão localizadas na cidade, aceitam animais ou são mobiliadas,\n",
    "# possuem em média um aluguel maior"
   ]
  },
  {
   "cell_type": "markdown",
   "metadata": {},
   "source": [
    "3- Após a análise exploratória o próximo procedimento é buscar o melhor modelo preditivo"
   ]
  },
  {
   "cell_type": "code",
   "execution_count": 86,
   "metadata": {},
   "outputs": [],
   "source": [
    "# Transformando variáveis categóricas em dummies\n",
    "dados2=pd.get_dummies(dados1)"
   ]
  },
  {
   "cell_type": "code",
   "execution_count": 87,
   "metadata": {},
   "outputs": [
    {
     "data": {
      "text/html": [
       "<div>\n",
       "<style scoped>\n",
       "    .dataframe tbody tr th:only-of-type {\n",
       "        vertical-align: middle;\n",
       "    }\n",
       "\n",
       "    .dataframe tbody tr th {\n",
       "        vertical-align: top;\n",
       "    }\n",
       "\n",
       "    .dataframe thead th {\n",
       "        text-align: right;\n",
       "    }\n",
       "</style>\n",
       "<table border=\"1\" class=\"dataframe\">\n",
       "  <thead>\n",
       "    <tr style=\"text-align: right;\">\n",
       "      <th></th>\n",
       "      <th>area</th>\n",
       "      <th>rooms</th>\n",
       "      <th>bathroom</th>\n",
       "      <th>parking spaces</th>\n",
       "      <th>floor</th>\n",
       "      <th>hoa</th>\n",
       "      <th>property tax</th>\n",
       "      <th>total</th>\n",
       "      <th>city_0</th>\n",
       "      <th>city_1</th>\n",
       "      <th>animal_acept</th>\n",
       "      <th>animal_not acept</th>\n",
       "      <th>furniture_furnished</th>\n",
       "      <th>furniture_not furnished</th>\n",
       "    </tr>\n",
       "  </thead>\n",
       "  <tbody>\n",
       "    <tr>\n",
       "      <th>0</th>\n",
       "      <td>240</td>\n",
       "      <td>3</td>\n",
       "      <td>3</td>\n",
       "      <td>4</td>\n",
       "      <td>0</td>\n",
       "      <td>0</td>\n",
       "      <td>1000</td>\n",
       "      <td>9121</td>\n",
       "      <td>0</td>\n",
       "      <td>1</td>\n",
       "      <td>1</td>\n",
       "      <td>0</td>\n",
       "      <td>1</td>\n",
       "      <td>0</td>\n",
       "    </tr>\n",
       "    <tr>\n",
       "      <th>1</th>\n",
       "      <td>64</td>\n",
       "      <td>2</td>\n",
       "      <td>1</td>\n",
       "      <td>1</td>\n",
       "      <td>10</td>\n",
       "      <td>540</td>\n",
       "      <td>122</td>\n",
       "      <td>1493</td>\n",
       "      <td>1</td>\n",
       "      <td>0</td>\n",
       "      <td>1</td>\n",
       "      <td>0</td>\n",
       "      <td>0</td>\n",
       "      <td>1</td>\n",
       "    </tr>\n",
       "    <tr>\n",
       "      <th>2</th>\n",
       "      <td>443</td>\n",
       "      <td>5</td>\n",
       "      <td>5</td>\n",
       "      <td>4</td>\n",
       "      <td>3</td>\n",
       "      <td>4172</td>\n",
       "      <td>1417</td>\n",
       "      <td>12680</td>\n",
       "      <td>0</td>\n",
       "      <td>1</td>\n",
       "      <td>1</td>\n",
       "      <td>0</td>\n",
       "      <td>1</td>\n",
       "      <td>0</td>\n",
       "    </tr>\n",
       "    <tr>\n",
       "      <th>3</th>\n",
       "      <td>73</td>\n",
       "      <td>2</td>\n",
       "      <td>2</td>\n",
       "      <td>1</td>\n",
       "      <td>12</td>\n",
       "      <td>700</td>\n",
       "      <td>150</td>\n",
       "      <td>2116</td>\n",
       "      <td>0</td>\n",
       "      <td>1</td>\n",
       "      <td>1</td>\n",
       "      <td>0</td>\n",
       "      <td>0</td>\n",
       "      <td>1</td>\n",
       "    </tr>\n",
       "    <tr>\n",
       "      <th>4</th>\n",
       "      <td>19</td>\n",
       "      <td>1</td>\n",
       "      <td>1</td>\n",
       "      <td>0</td>\n",
       "      <td>0</td>\n",
       "      <td>0</td>\n",
       "      <td>41</td>\n",
       "      <td>1257</td>\n",
       "      <td>0</td>\n",
       "      <td>1</td>\n",
       "      <td>0</td>\n",
       "      <td>1</td>\n",
       "      <td>0</td>\n",
       "      <td>1</td>\n",
       "    </tr>\n",
       "  </tbody>\n",
       "</table>\n",
       "</div>"
      ],
      "text/plain": [
       "   area  rooms  bathroom  parking spaces  floor   hoa  property tax  total  \\\n",
       "0   240      3         3               4      0     0          1000   9121   \n",
       "1    64      2         1               1     10   540           122   1493   \n",
       "2   443      5         5               4      3  4172          1417  12680   \n",
       "3    73      2         2               1     12   700           150   2116   \n",
       "4    19      1         1               0      0     0            41   1257   \n",
       "\n",
       "   city_0  city_1  animal_acept  animal_not acept  furniture_furnished  \\\n",
       "0       0       1             1                 0                    1   \n",
       "1       1       0             1                 0                    0   \n",
       "2       0       1             1                 0                    1   \n",
       "3       0       1             1                 0                    0   \n",
       "4       0       1             0                 1                    0   \n",
       "\n",
       "   furniture_not furnished  \n",
       "0                        0  \n",
       "1                        1  \n",
       "2                        0  \n",
       "3                        1  \n",
       "4                        1  "
      ]
     },
     "execution_count": 87,
     "metadata": {},
     "output_type": "execute_result"
    }
   ],
   "source": [
    "dados2.head()"
   ]
  },
  {
   "cell_type": "code",
   "execution_count": 88,
   "metadata": {},
   "outputs": [],
   "source": [
    "# normalização dos dados\n",
    "from sklearn.preprocessing import MinMaxScaler\n",
    "import sklearn.feature_selection as ft"
   ]
  },
  {
   "cell_type": "code",
   "execution_count": 89,
   "metadata": {},
   "outputs": [],
   "source": [
    "x=dados2.drop(columns=['total'])\n",
    "y=dados2['total']"
   ]
  },
  {
   "cell_type": "code",
   "execution_count": 90,
   "metadata": {},
   "outputs": [],
   "source": [
    "x_norm=MinMaxScaler(feature_range = (0, 1)).fit_transform(x)"
   ]
  },
  {
   "cell_type": "code",
   "execution_count": 91,
   "metadata": {},
   "outputs": [
    {
     "data": {
      "text/plain": [
       "array([[0.00935111, 0.22222222, 0.22222222, ..., 0.        , 1.        ,\n",
       "        0.        ],\n",
       "       [0.00219548, 0.11111111, 0.        , ..., 0.        , 0.        ,\n",
       "        1.        ],\n",
       "       [0.01760449, 0.44444444, 0.44444444, ..., 0.        , 1.        ,\n",
       "        0.        ],\n",
       "       ...,\n",
       "       [0.00154497, 0.        , 0.        , ..., 0.        , 0.        ,\n",
       "        1.        ],\n",
       "       [0.00609855, 0.22222222, 0.11111111, ..., 1.        , 0.        ,\n",
       "        1.        ],\n",
       "       [0.00203285, 0.11111111, 0.        , ..., 0.        , 1.        ,\n",
       "        0.        ]])"
      ]
     },
     "execution_count": 91,
     "metadata": {},
     "output_type": "execute_result"
    }
   ],
   "source": [
    "x_norm"
   ]
  },
  {
   "cell_type": "code",
   "execution_count": 92,
   "metadata": {},
   "outputs": [],
   "source": [
    "from sklearn.feature_selection import SelectKBest\n",
    "from sklearn.feature_selection import chi2"
   ]
  },
  {
   "cell_type": "code",
   "execution_count": 93,
   "metadata": {},
   "outputs": [],
   "source": [
    "# Forma de verificar quais são as variáveis mais relevantes ao modelo\n",
    "best_var = SelectKBest(score_func = chi2)\n",
    "fit = best_var.fit(x_norm, y)"
   ]
  },
  {
   "cell_type": "code",
   "execution_count": 94,
   "metadata": {},
   "outputs": [
    {
     "name": "stdout",
     "output_type": "stream",
     "text": [
      "Index(['area', 'rooms', 'bathroom', 'parking spaces', 'floor', 'hoa',\n",
      "       'property tax', 'city_0', 'city_1', 'animal_acept', 'animal_not acept',\n",
      "       'furniture_furnished', 'furniture_not furnished'],\n",
      "      dtype='object')\n",
      "[ 242.87311983  478.01805758  918.09550359  618.19195771  294.41375999\n",
      "  397.63634611 1305.01170934 3798.73888793  601.40065077 1003.43484443\n",
      " 3311.19305808 3366.27904109 1183.96030302]\n"
     ]
    }
   ],
   "source": [
    "print(x.columns)\n",
    "print(fit.scores_)"
   ]
  },
  {
   "cell_type": "code",
   "execution_count": 95,
   "metadata": {},
   "outputs": [],
   "source": [
    "# divisão entre dados treino e teste\n",
    "from sklearn.model_selection import train_test_split "
   ]
  },
  {
   "cell_type": "code",
   "execution_count": 96,
   "metadata": {},
   "outputs": [],
   "source": [
    "x_train, x_test, y_train, y_test=train_test_split(x_norm, y, test_size=0.33)"
   ]
  },
  {
   "cell_type": "code",
   "execution_count": 97,
   "metadata": {},
   "outputs": [],
   "source": [
    "import statsmodels.api as sm"
   ]
  },
  {
   "cell_type": "code",
   "execution_count": 98,
   "metadata": {},
   "outputs": [
    {
     "data": {
      "text/html": [
       "<table class=\"simpletable\">\n",
       "<caption>OLS Regression Results</caption>\n",
       "<tr>\n",
       "  <th>Dep. Variable:</th>          <td>total</td>      <th>  R-squared:         </th> <td>   0.919</td> \n",
       "</tr>\n",
       "<tr>\n",
       "  <th>Model:</th>                   <td>OLS</td>       <th>  Adj. R-squared:    </th> <td>   0.919</td> \n",
       "</tr>\n",
       "<tr>\n",
       "  <th>Method:</th>             <td>Least Squares</td>  <th>  F-statistic:       </th> <td>   4617.</td> \n",
       "</tr>\n",
       "<tr>\n",
       "  <th>Date:</th>             <td>Wed, 03 Aug 2022</td> <th>  Prob (F-statistic):</th>  <td>  0.00</td>  \n",
       "</tr>\n",
       "<tr>\n",
       "  <th>Time:</th>                 <td>16:08:22</td>     <th>  Log-Likelihood:    </th> <td> -37691.</td> \n",
       "</tr>\n",
       "<tr>\n",
       "  <th>No. Observations:</th>      <td>  4073</td>      <th>  AIC:               </th> <td>7.540e+04</td>\n",
       "</tr>\n",
       "<tr>\n",
       "  <th>Df Residuals:</th>          <td>  4062</td>      <th>  BIC:               </th> <td>7.547e+04</td>\n",
       "</tr>\n",
       "<tr>\n",
       "  <th>Df Model:</th>              <td>    10</td>      <th>                     </th>     <td> </td>    \n",
       "</tr>\n",
       "<tr>\n",
       "  <th>Covariance Type:</th>      <td>nonrobust</td>    <th>                     </th>     <td> </td>    \n",
       "</tr>\n",
       "</table>\n",
       "<table class=\"simpletable\">\n",
       "<tr>\n",
       "   <td></td>      <th>coef</th>     <th>std err</th>      <th>t</th>      <th>P>|t|</th>  <th>[0.025</th>    <th>0.975]</th>  \n",
       "</tr>\n",
       "<tr>\n",
       "  <th>x1</th>  <td> 7733.0087</td> <td> 2244.684</td> <td>    3.445</td> <td> 0.001</td> <td> 3332.198</td> <td> 1.21e+04</td>\n",
       "</tr>\n",
       "<tr>\n",
       "  <th>x2</th>  <td> 2308.3135</td> <td>  499.583</td> <td>    4.620</td> <td> 0.000</td> <td> 1328.856</td> <td> 3287.771</td>\n",
       "</tr>\n",
       "<tr>\n",
       "  <th>x3</th>  <td> 8597.4390</td> <td>  425.108</td> <td>   20.224</td> <td> 0.000</td> <td> 7763.995</td> <td> 9430.883</td>\n",
       "</tr>\n",
       "<tr>\n",
       "  <th>x4</th>  <td> 6507.2334</td> <td>  418.785</td> <td>   15.538</td> <td> 0.000</td> <td> 5686.185</td> <td> 7328.282</td>\n",
       "</tr>\n",
       "<tr>\n",
       "  <th>x5</th>  <td> 3520.3591</td> <td>  660.794</td> <td>    5.327</td> <td> 0.000</td> <td> 2224.841</td> <td> 4815.878</td>\n",
       "</tr>\n",
       "<tr>\n",
       "  <th>x6</th>  <td> 2.333e+05</td> <td> 1847.793</td> <td>  126.273</td> <td> 0.000</td> <td>  2.3e+05</td> <td> 2.37e+05</td>\n",
       "</tr>\n",
       "<tr>\n",
       "  <th>x7</th>  <td> 3.693e+05</td> <td> 2529.329</td> <td>  146.000</td> <td> 0.000</td> <td> 3.64e+05</td> <td> 3.74e+05</td>\n",
       "</tr>\n",
       "<tr>\n",
       "  <th>x8</th>  <td> -339.4590</td> <td>   77.590</td> <td>   -4.375</td> <td> 0.000</td> <td> -491.578</td> <td> -187.340</td>\n",
       "</tr>\n",
       "<tr>\n",
       "  <th>x9</th>  <td> 1161.0420</td> <td>   53.148</td> <td>   21.846</td> <td> 0.000</td> <td> 1056.844</td> <td> 1265.240</td>\n",
       "</tr>\n",
       "<tr>\n",
       "  <th>x10</th> <td>  388.4043</td> <td>   52.778</td> <td>    7.359</td> <td> 0.000</td> <td>  284.930</td> <td>  491.879</td>\n",
       "</tr>\n",
       "<tr>\n",
       "  <th>x11</th> <td>  433.1786</td> <td>   60.793</td> <td>    7.125</td> <td> 0.000</td> <td>  313.990</td> <td>  552.367</td>\n",
       "</tr>\n",
       "<tr>\n",
       "  <th>x12</th> <td>  971.8068</td> <td>   62.393</td> <td>   15.576</td> <td> 0.000</td> <td>  849.483</td> <td> 1094.131</td>\n",
       "</tr>\n",
       "<tr>\n",
       "  <th>x13</th> <td> -150.2239</td> <td>   48.236</td> <td>   -3.114</td> <td> 0.002</td> <td> -244.792</td> <td>  -55.655</td>\n",
       "</tr>\n",
       "</table>\n",
       "<table class=\"simpletable\">\n",
       "<tr>\n",
       "  <th>Omnibus:</th>       <td>1710.976</td> <th>  Durbin-Watson:     </th> <td>   1.995</td> \n",
       "</tr>\n",
       "<tr>\n",
       "  <th>Prob(Omnibus):</th>  <td> 0.000</td>  <th>  Jarque-Bera (JB):  </th> <td>21398.405</td>\n",
       "</tr>\n",
       "<tr>\n",
       "  <th>Skew:</th>           <td> 1.653</td>  <th>  Prob(JB):          </th> <td>    0.00</td> \n",
       "</tr>\n",
       "<tr>\n",
       "  <th>Kurtosis:</th>       <td>13.731</td>  <th>  Cond. No.          </th> <td>1.41e+16</td> \n",
       "</tr>\n",
       "</table><br/><br/>Warnings:<br/>[1] Standard Errors assume that the covariance matrix of the errors is correctly specified.<br/>[2] The smallest eigenvalue is 4.46e-29. This might indicate that there are<br/>strong multicollinearity problems or that the design matrix is singular."
      ],
      "text/plain": [
       "<class 'statsmodels.iolib.summary.Summary'>\n",
       "\"\"\"\n",
       "                            OLS Regression Results                            \n",
       "==============================================================================\n",
       "Dep. Variable:                  total   R-squared:                       0.919\n",
       "Model:                            OLS   Adj. R-squared:                  0.919\n",
       "Method:                 Least Squares   F-statistic:                     4617.\n",
       "Date:                Wed, 03 Aug 2022   Prob (F-statistic):               0.00\n",
       "Time:                        16:08:22   Log-Likelihood:                -37691.\n",
       "No. Observations:                4073   AIC:                         7.540e+04\n",
       "Df Residuals:                    4062   BIC:                         7.547e+04\n",
       "Df Model:                          10                                         \n",
       "Covariance Type:            nonrobust                                         \n",
       "==============================================================================\n",
       "                 coef    std err          t      P>|t|      [0.025      0.975]\n",
       "------------------------------------------------------------------------------\n",
       "x1          7733.0087   2244.684      3.445      0.001    3332.198    1.21e+04\n",
       "x2          2308.3135    499.583      4.620      0.000    1328.856    3287.771\n",
       "x3          8597.4390    425.108     20.224      0.000    7763.995    9430.883\n",
       "x4          6507.2334    418.785     15.538      0.000    5686.185    7328.282\n",
       "x5          3520.3591    660.794      5.327      0.000    2224.841    4815.878\n",
       "x6          2.333e+05   1847.793    126.273      0.000     2.3e+05    2.37e+05\n",
       "x7          3.693e+05   2529.329    146.000      0.000    3.64e+05    3.74e+05\n",
       "x8          -339.4590     77.590     -4.375      0.000    -491.578    -187.340\n",
       "x9          1161.0420     53.148     21.846      0.000    1056.844    1265.240\n",
       "x10          388.4043     52.778      7.359      0.000     284.930     491.879\n",
       "x11          433.1786     60.793      7.125      0.000     313.990     552.367\n",
       "x12          971.8068     62.393     15.576      0.000     849.483    1094.131\n",
       "x13         -150.2239     48.236     -3.114      0.002    -244.792     -55.655\n",
       "==============================================================================\n",
       "Omnibus:                     1710.976   Durbin-Watson:                   1.995\n",
       "Prob(Omnibus):                  0.000   Jarque-Bera (JB):            21398.405\n",
       "Skew:                           1.653   Prob(JB):                         0.00\n",
       "Kurtosis:                      13.731   Cond. No.                     1.41e+16\n",
       "==============================================================================\n",
       "\n",
       "Warnings:\n",
       "[1] Standard Errors assume that the covariance matrix of the errors is correctly specified.\n",
       "[2] The smallest eigenvalue is 4.46e-29. This might indicate that there are\n",
       "strong multicollinearity problems or that the design matrix is singular.\n",
       "\"\"\""
      ]
     },
     "execution_count": 98,
     "metadata": {},
     "output_type": "execute_result"
    }
   ],
   "source": [
    "# modelo de Regressão Múltipla\n",
    "modelo_Mult_Reg = sm.OLS(y_train,x_train, random_state=11).fit()\n",
    "modelo_Mult_Reg.summary() "
   ]
  },
  {
   "cell_type": "code",
   "execution_count": 99,
   "metadata": {},
   "outputs": [],
   "source": [
    "#Por meio dos dados acima, percebe-se que o p-valor dos coeficentes são menores que 0.05,\n",
    "# ou seja, rejeita-se a hipotese nula de que a os coefiencientes são iguias a 0"
   ]
  },
  {
   "cell_type": "code",
   "execution_count": 100,
   "metadata": {},
   "outputs": [],
   "source": [
    "# Prevendo o modelo e verificando sua acurácia\n",
    "pred1=modelo_Mult_Reg.predict(x_test)"
   ]
  },
  {
   "cell_type": "code",
   "execution_count": 101,
   "metadata": {},
   "outputs": [],
   "source": [
    "import sklearn.metrics as metrics\n",
    "def regression_results(y_true, y_pred):\n",
    "\n",
    "    # Regression metrics\n",
    "    explained_variance=metrics.explained_variance_score(y_true, y_pred)\n",
    "    mean_absolute_error=metrics.mean_absolute_error(y_true, y_pred) \n",
    "    mse=metrics.mean_squared_error(y_true, y_pred) \n",
    "    median_absolute_error=metrics.median_absolute_error(y_true, y_pred)\n",
    "    r2=metrics.r2_score(y_true, y_pred)\n",
    "\n",
    "    print('explained_variance: ', round(explained_variance,4))    \n",
    "    print('r2: ', round(r2,4))\n",
    "    print('MAE: ', round(mean_absolute_error,4))\n",
    "    print('MSE: ', round(mse,4))\n",
    "    print('RMSE: ', round(np.sqrt(mse),4))"
   ]
  },
  {
   "cell_type": "code",
   "execution_count": 102,
   "metadata": {},
   "outputs": [
    {
     "name": "stdout",
     "output_type": "stream",
     "text": [
      "explained_variance:  0.9144\n",
      "r2:  0.9143\n",
      "MAE:  1706.6413\n",
      "MSE:  6140747.3998\n",
      "RMSE:  2478.0531\n"
     ]
    }
   ],
   "source": [
    "regression_results(y_test, pred1)"
   ]
  },
  {
   "cell_type": "code",
   "execution_count": 103,
   "metadata": {},
   "outputs": [],
   "source": [
    "# Modelo Random Forest \n",
    "from sklearn.ensemble import RandomForestRegressor"
   ]
  },
  {
   "cell_type": "code",
   "execution_count": 104,
   "metadata": {},
   "outputs": [],
   "source": [
    "modelo_rf=RandomForestRegressor(random_state=111)"
   ]
  },
  {
   "cell_type": "code",
   "execution_count": 105,
   "metadata": {},
   "outputs": [
    {
     "data": {
      "text/plain": [
       "RandomForestRegressor(random_state=111)"
      ]
     },
     "execution_count": 105,
     "metadata": {},
     "output_type": "execute_result"
    }
   ],
   "source": [
    "modelo_rf.fit(x_train,y_train)"
   ]
  },
  {
   "cell_type": "code",
   "execution_count": 106,
   "metadata": {},
   "outputs": [
    {
     "name": "stdout",
     "output_type": "stream",
     "text": [
      "Index(['area', 'rooms', 'bathroom', 'parking spaces', 'floor', 'hoa',\n",
      "       'property tax', 'city_0', 'city_1', 'animal_acept', 'animal_not acept',\n",
      "       'furniture_furnished', 'furniture_not furnished'],\n",
      "      dtype='object')\n",
      "[0.02999343 0.00586973 0.00950755 0.00671026 0.01172974 0.39071373\n",
      " 0.53540556 0.00084418 0.00087444 0.00150445 0.00137183 0.00265846\n",
      " 0.00281664]\n"
     ]
    }
   ],
   "source": [
    "#Outro modo de verficar as variáveis mais relavantes\n",
    "print(x.columns)\n",
    "print(modelo_rf.feature_importances_)"
   ]
  },
  {
   "cell_type": "code",
   "execution_count": 107,
   "metadata": {},
   "outputs": [],
   "source": [
    "pred2=modelo_rf.predict(x_test)"
   ]
  },
  {
   "cell_type": "code",
   "execution_count": 108,
   "metadata": {},
   "outputs": [
    {
     "name": "stdout",
     "output_type": "stream",
     "text": [
      "explained_variance:  0.8967\n",
      "r2:  0.8967\n",
      "MAE:  1496.5981\n",
      "MSE:  7401556.7027\n",
      "RMSE:  2720.5802\n"
     ]
    }
   ],
   "source": [
    "regression_results(y_test, pred2)"
   ]
  },
  {
   "cell_type": "code",
   "execution_count": 109,
   "metadata": {},
   "outputs": [],
   "source": [
    "from sklearn.ensemble import GradientBoostingRegressor"
   ]
  },
  {
   "cell_type": "code",
   "execution_count": 119,
   "metadata": {},
   "outputs": [],
   "source": [
    "# Modelo Gradient Boosting Regressor\n",
    "modelo_gb=GradientBoostingRegressor(random_state=22)"
   ]
  },
  {
   "cell_type": "code",
   "execution_count": 120,
   "metadata": {},
   "outputs": [
    {
     "data": {
      "text/plain": [
       "GradientBoostingRegressor(random_state=22)"
      ]
     },
     "execution_count": 120,
     "metadata": {},
     "output_type": "execute_result"
    }
   ],
   "source": [
    "modelo_gb.fit(x_train,y_train)"
   ]
  },
  {
   "cell_type": "code",
   "execution_count": 121,
   "metadata": {},
   "outputs": [],
   "source": [
    "pred3=modelo_gb.predict(x_test)"
   ]
  },
  {
   "cell_type": "code",
   "execution_count": 122,
   "metadata": {},
   "outputs": [
    {
     "name": "stdout",
     "output_type": "stream",
     "text": [
      "explained_variance:  0.9083\n",
      "r2:  0.9083\n",
      "MAE:  1526.2265\n",
      "MSE:  6571000.298\n",
      "RMSE:  2563.3962\n"
     ]
    }
   ],
   "source": [
    "regression_results(y_test, pred3)"
   ]
  },
  {
   "cell_type": "code",
   "execution_count": 123,
   "metadata": {},
   "outputs": [],
   "source": [
    "from xgboost import XGBRegressor"
   ]
  },
  {
   "cell_type": "code",
   "execution_count": 141,
   "metadata": {},
   "outputs": [],
   "source": [
    "# Modelo XGB Regressor\n",
    "modelo_xgb=XGBRegressor(random_state=35)"
   ]
  },
  {
   "cell_type": "code",
   "execution_count": 142,
   "metadata": {
    "scrolled": false
   },
   "outputs": [
    {
     "data": {
      "text/plain": [
       "XGBRegressor(base_score=0.5, booster='gbtree', colsample_bylevel=1,\n",
       "             colsample_bynode=1, colsample_bytree=1, gamma=0, gpu_id=-1,\n",
       "             importance_type='gain', interaction_constraints='',\n",
       "             learning_rate=0.300000012, max_delta_step=0, max_depth=6,\n",
       "             min_child_weight=1, missing=nan, monotone_constraints='()',\n",
       "             n_estimators=100, n_jobs=0, num_parallel_tree=1, random_state=35,\n",
       "             reg_alpha=0, reg_lambda=1, scale_pos_weight=1, subsample=1,\n",
       "             tree_method='exact', validate_parameters=1, verbosity=None)"
      ]
     },
     "execution_count": 142,
     "metadata": {},
     "output_type": "execute_result"
    }
   ],
   "source": [
    "modelo_xgb.fit(x_train,y_train)"
   ]
  },
  {
   "cell_type": "code",
   "execution_count": 143,
   "metadata": {},
   "outputs": [],
   "source": [
    "pred4=modelo_xgb.predict(x_test)"
   ]
  },
  {
   "cell_type": "code",
   "execution_count": 144,
   "metadata": {},
   "outputs": [
    {
     "name": "stdout",
     "output_type": "stream",
     "text": [
      "explained_variance:  0.8898\n",
      "r2:  0.8898\n",
      "MAE:  1552.4352\n",
      "MSE:  7894328.4028\n",
      "RMSE:  2809.6848\n"
     ]
    }
   ],
   "source": [
    "regression_results(y_test, pred4)"
   ]
  },
  {
   "cell_type": "markdown",
   "metadata": {},
   "source": [
    "Após realizar 4 modelos, percebe-se que o modelo que utilizou o algoritmo Gradient Bossting Regressor apresentou o melhor resultado"
   ]
  },
  {
   "cell_type": "markdown",
   "metadata": {},
   "source": [
    "Técnica de grid search para verificar os melhores hiperparâmetros\n"
   ]
  },
  {
   "cell_type": "code",
   "execution_count": 128,
   "metadata": {},
   "outputs": [],
   "source": [
    "#parâmetros a serem analisados\n",
    "param_grid = {\n",
    "              \"learning_rate\" : [0.03,0.05, 0.1, 0.25, 0.5],\n",
    "             'n_estimators': [100,200]}"
   ]
  },
  {
   "cell_type": "code",
   "execution_count": 129,
   "metadata": {},
   "outputs": [],
   "source": [
    "from sklearn.model_selection import GridSearchCV"
   ]
  },
  {
   "cell_type": "code",
   "execution_count": 148,
   "metadata": {},
   "outputs": [],
   "source": [
    "grid_search = GridSearchCV(modelo_xgb, param_grid = param_grid, return_train_score = True)"
   ]
  },
  {
   "cell_type": "code",
   "execution_count": 149,
   "metadata": {},
   "outputs": [
    {
     "data": {
      "text/plain": [
       "GridSearchCV(estimator=XGBRegressor(base_score=0.5, booster='gbtree',\n",
       "                                    colsample_bylevel=1, colsample_bynode=1,\n",
       "                                    colsample_bytree=1, gamma=0, gpu_id=-1,\n",
       "                                    importance_type='gain',\n",
       "                                    interaction_constraints='',\n",
       "                                    learning_rate=0.300000012, max_delta_step=0,\n",
       "                                    max_depth=6, min_child_weight=1,\n",
       "                                    missing=nan, monotone_constraints='()',\n",
       "                                    n_estimators=100, n_jobs=0,\n",
       "                                    num_parallel_tree=1, random_state=35,\n",
       "                                    reg_alpha=0, reg_lambda=1,\n",
       "                                    scale_pos_weight=1, subsample=1,\n",
       "                                    tree_method='exact', validate_parameters=1,\n",
       "                                    verbosity=None),\n",
       "             param_grid={'learning_rate': [0.03, 0.05, 0.1, 0.25, 0.5],\n",
       "                         'n_estimators': [100, 200]},\n",
       "             return_train_score=True)"
      ]
     },
     "execution_count": 149,
     "metadata": {},
     "output_type": "execute_result"
    }
   ],
   "source": [
    "grid_search.fit(x_train,y_train)"
   ]
  },
  {
   "cell_type": "code",
   "execution_count": 150,
   "metadata": {},
   "outputs": [
    {
     "data": {
      "text/plain": [
       "XGBRegressor(base_score=0.5, booster='gbtree', colsample_bylevel=1,\n",
       "             colsample_bynode=1, colsample_bytree=1, gamma=0, gpu_id=-1,\n",
       "             importance_type='gain', interaction_constraints='',\n",
       "             learning_rate=0.03, max_delta_step=0, max_depth=6,\n",
       "             min_child_weight=1, missing=nan, monotone_constraints='()',\n",
       "             n_estimators=200, n_jobs=0, num_parallel_tree=1, random_state=35,\n",
       "             reg_alpha=0, reg_lambda=1, scale_pos_weight=1, subsample=1,\n",
       "             tree_method='exact', validate_parameters=1, verbosity=None)"
      ]
     },
     "execution_count": 150,
     "metadata": {},
     "output_type": "execute_result"
    }
   ],
   "source": [
    "grid_search.best_estimator_"
   ]
  },
  {
   "cell_type": "code",
   "execution_count": 151,
   "metadata": {},
   "outputs": [],
   "source": [
    "modelo_xgb2=XGBRegressor(\n",
    "             learning_rate=0.03, \n",
    "             n_estimators=200,  random_state=44)"
   ]
  },
  {
   "cell_type": "code",
   "execution_count": 152,
   "metadata": {},
   "outputs": [
    {
     "data": {
      "text/plain": [
       "XGBRegressor(base_score=0.5, booster='gbtree', colsample_bylevel=1,\n",
       "             colsample_bynode=1, colsample_bytree=1, gamma=0, gpu_id=-1,\n",
       "             importance_type='gain', interaction_constraints='',\n",
       "             learning_rate=0.03, max_delta_step=0, max_depth=6,\n",
       "             min_child_weight=1, missing=nan, monotone_constraints='()',\n",
       "             n_estimators=200, n_jobs=0, num_parallel_tree=1, random_state=44,\n",
       "             reg_alpha=0, reg_lambda=1, scale_pos_weight=1, subsample=1,\n",
       "             tree_method='exact', validate_parameters=1, verbosity=None)"
      ]
     },
     "execution_count": 152,
     "metadata": {},
     "output_type": "execute_result"
    }
   ],
   "source": [
    "modelo_xgb2.fit(x_train,y_train)"
   ]
  },
  {
   "cell_type": "code",
   "execution_count": 153,
   "metadata": {},
   "outputs": [],
   "source": [
    "pred5=modelo_xgb2.predict(x_test)"
   ]
  },
  {
   "cell_type": "code",
   "execution_count": 154,
   "metadata": {},
   "outputs": [
    {
     "name": "stdout",
     "output_type": "stream",
     "text": [
      "explained_variance:  0.9164\n",
      "r2:  0.9164\n",
      "MAE:  1500.7493\n",
      "MSE:  5990467.585\n",
      "RMSE:  2447.5432\n"
     ]
    }
   ],
   "source": [
    "regression_results(y_test,pred5)"
   ]
  },
  {
   "cell_type": "markdown",
   "metadata": {},
   "source": [
    "Salvando o melhor modelo"
   ]
  },
  {
   "cell_type": "code",
   "execution_count": 156,
   "metadata": {},
   "outputs": [],
   "source": [
    "import pickle"
   ]
  },
  {
   "cell_type": "code",
   "execution_count": 157,
   "metadata": {},
   "outputs": [],
   "source": [
    "with open('modelo_aluguel_v2.pkl', 'wb') as file:\n",
    "    pickle.dump(modelo_xgb2, file)"
   ]
  },
  {
   "cell_type": "markdown",
   "metadata": {},
   "source": [
    "Conclusão: Após analisar os modelos e fazer o gridsearch, optou-se por utilizar o modelo_xb2 para a previsão do valor do aluguel"
   ]
  },
  {
   "cell_type": "code",
   "execution_count": null,
   "metadata": {},
   "outputs": [],
   "source": []
  }
 ],
 "metadata": {
  "kernelspec": {
   "display_name": "Python 3",
   "language": "python",
   "name": "python3"
  },
  "language_info": {
   "codemirror_mode": {
    "name": "ipython",
    "version": 3
   },
   "file_extension": ".py",
   "mimetype": "text/x-python",
   "name": "python",
   "nbconvert_exporter": "python",
   "pygments_lexer": "ipython3",
   "version": "3.7.6"
  }
 },
 "nbformat": 4,
 "nbformat_minor": 4
}
